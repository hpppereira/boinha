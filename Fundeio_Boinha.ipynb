{
 "cells": [
  {
   "cell_type": "markdown",
   "metadata": {},
   "source": [
    "# Avaliação do Fundeio da Boinha\n",
    "- Samuel Stefani\n",
    "- Henrique Pereira\n",
    "- Fabio Nascimento\n",
    "- 18/10/2017\n",
    "\n",
    "## Descrição\n",
    "\n",
    "- Sistema de Coordenadas:\n",
    "- Paralelo a praia: eixo X\n",
    "- Perpendicular a praia: eixo Y\n",
    "- Vertical: Eixo Z"
   ]
  },
  {
   "cell_type": "code",
   "execution_count": 22,
   "metadata": {
    "collapsed": true
   },
   "outputs": [],
   "source": [
    "# import bibliotecas\n",
    "\n",
    "import numpy as np\n",
    "import pandas as pd\n",
    "import xlrd\n"
   ]
  },
  {
   "cell_type": "markdown",
   "metadata": {},
   "source": [
    "## Entrada de Dados"
   ]
  },
  {
   "cell_type": "code",
   "execution_count": 28,
   "metadata": {
    "collapsed": true
   },
   "outputs": [],
   "source": [
    "# Cabos\n",
    "\n",
    "comprimento_cabo_x = [10,20,30]\n",
    "comprimento_cabo_y = [10,20,30,40,50]\n",
    "\n",
    "carga_ruptura = 380 #kg\n",
    "alongamento_cabo = 0.15 #% - a 380 kg o cabo alonga 15% e rompe\n",
    "\n",
    "x1 = 0\n",
    "y1 = 30\n",
    "x2 = 0\n",
    "y2 = -30\n",
    "zi = 3.5\n",
    "zf = 5\n",
    "k1 = 0.15\n",
    "C1 = carga_ruptura\n",
    "k2 = 0.15\n",
    "C2 = carga_ruptura\n",
    "\n",
    "# Boia\n",
    "raio_boia = 0.2 #metros\n",
    "coef_arrasto = 0.470\n",
    "area_lateral = np.pi * raio_boia ** 2\n",
    "\n",
    "# Ondas\n"
   ]
  },
  {
   "cell_type": "code",
   "execution_count": 9,
   "metadata": {
    "collapsed": true,
    "scrolled": false
   },
   "outputs": [],
   "source": [
    "\n"
   ]
  },
  {
   "cell_type": "markdown",
   "metadata": {},
   "source": [
    "## Leitura de Arquivo Externo (excel)"
   ]
  },
  {
   "cell_type": "code",
   "execution_count": 26,
   "metadata": {
    "collapsed": true
   },
   "outputs": [],
   "source": [
    "# leitura das especificacoes do cabo\n",
    "\n",
    "# pathname = '/home/hp/Dropbox/boinha/fundeio/'\n",
    "# filename = 'Tabela_Fundeio.xlsx'\n",
    "\n",
    "# # xls = pd.read_excel(pathname + filename)\n",
    "# xls = xlrd.open_workbook(pathname + filename)"
   ]
  },
  {
   "cell_type": "markdown",
   "metadata": {},
   "source": [
    "## Funções "
   ]
  },
  {
   "cell_type": "code",
   "execution_count": 35,
   "metadata": {
    "collapsed": true
   },
   "outputs": [],
   "source": [
    "# Deslocamento Horizontal da Boia\n",
    "\n",
    "def deltay2(x1,y1,x2,y2,zi,zf,k1,C1,k2,C2):\n",
    " \n",
    "    \"\"\"\n",
    "    Descricao:\n",
    "    \n",
    "    Input:\n",
    "    x1 - Comprimento do Cabo para offshore\n",
    "    y1 - ...\n",
    "    ...\n",
    "    \n",
    "    Output:\n",
    "    D - Deslocamento horizontal do cabo (positivo: offshore, negativo: praia)\n",
    "    R - Limite??\n",
    "    \"\"\"\n",
    "    \n",
    "    # Comprimento inicial dos cabos 1 e 2\n",
    "    Li1=np.sqrt(x1**2+y1**2+zi**2)\n",
    "    Li2=np.sqrt(x2**2+y2**2+zi**2)\n",
    "    \n",
    "    D=0\n",
    "    R=(2*C1*((np.sqrt(x1**2+(y1-D)**2+zf**2))-Li1)*(y1-D))/(k1*Li1*(np.sqrt(x1**2+(y1-D)**2+zf**2))) \\\n",
    "    + (C2*(np.sqrt(x2**2+(y2-D)**2+zf**2)-Li2)*(y2+D))/(k2*Li2*(np.sqrt(x2**2+(y2+D)**2+zf**2)))\n",
    "    \n",
    "    while R>0.05 or R<-0.05:\n",
    "        D=D+0.0001\n",
    "        R=(2*C1*((np.sqrt(x1**2+(y1-D)**2+zf**2))-Li1)*(y1-D))/(k1*Li1*(np.sqrt(x1**2+(y1-D)**2+zf**2))) \\\n",
    "        + (C2*(np.sqrt(x2**2+(y2-D)**2+zf**2)-Li2)*(y2+D))/(k2*Li2*(np.sqrt(x2**2+(y2+D)**2+zf**2)))\n",
    "\n",
    "        R1 = C2*(np.sqrt(x2**2+(y2-D)**2+zf**2)-Li2)*(y2+D)/(k2*Li2*(np.sqrt(x2**2+(y2+D)**2+zf**2)))\n",
    "    \n",
    "    print ('R=%.5f --> D=%.5f' %(R, D))\n",
    "    \n",
    "    return D, R, R1"
   ]
  },
  {
   "cell_type": "code",
   "execution_count": null,
   "metadata": {
    "collapsed": true
   },
   "outputs": [],
   "source": [
    "# Comprimento do Cabo na posicao da onda\n",
    "\n",
    "def comp_cabo_onda(comp_x, ....):\n",
    "    \n",
    "    compr_vale = ..\n",
    "    compr_cabo = ..\n",
    "    \n",
    "    return comp, ..."
   ]
  },
  {
   "cell_type": "code",
   "execution_count": 27,
   "metadata": {
    "collapsed": true
   },
   "outputs": [],
   "source": [
    "# Tração máxima em kg\n",
    "\n",
    "def tracao_max():\n",
    "    \n",
    "    ..."
   ]
  },
  {
   "cell_type": "markdown",
   "metadata": {},
   "source": [
    "## Execução"
   ]
  },
  {
   "cell_type": "code",
   "execution_count": 36,
   "metadata": {},
   "outputs": [
    {
     "name": "stdout",
     "output_type": "stream",
     "text": [
      "R=0.04404 --> D=0.07090\n"
     ]
    }
   ],
   "source": [
    "d, r, r1 = deltay2(x1,y1,x2,y2,zi,zf,k1,C1,k2,C2)"
   ]
  },
  {
   "cell_type": "code",
   "execution_count": 38,
   "metadata": {},
   "outputs": [
    {
     "data": {
      "text/plain": [
       "-23.186763176488938"
      ]
     },
     "execution_count": 38,
     "metadata": {},
     "output_type": "execute_result"
    }
   ],
   "source": [
    "r1"
   ]
  }
 ],
 "metadata": {
  "kernelspec": {
   "display_name": "Python 2",
   "language": "python",
   "name": "python2"
  },
  "language_info": {
   "codemirror_mode": {
    "name": "ipython",
    "version": 2
   },
   "file_extension": ".py",
   "mimetype": "text/x-python",
   "name": "python",
   "nbconvert_exporter": "python",
   "pygments_lexer": "ipython2",
   "version": "2.7.11"
  }
 },
 "nbformat": 4,
 "nbformat_minor": 2
}
