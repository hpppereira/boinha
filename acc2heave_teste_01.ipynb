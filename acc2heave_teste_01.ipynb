{
 "cells": [
  {
   "cell_type": "code",
   "execution_count": 89,
   "metadata": {},
   "outputs": [],
   "source": [
    "import pandas as pd\n",
    "import matplotlib.pyplot as plt\n",
    "import numpy as np\n",
    "from scipy.signal import butter, filtfilt\n",
    "from scipy.integrate import cumtrapz"
   ]
  },
  {
   "cell_type": "code",
   "execution_count": null,
   "metadata": {},
   "outputs": [],
   "source": [
    "# processamento RBR praia de caopacabana\n",
    "\n",
    "import pandas as pd\n",
    "import matplotlib.pyplot as plt\n",
    "\n",
    "plt.close('all')\n",
    "\n",
    "# pth = 'teste_copacabana_20240921/RBR/055161_20240921_1904.xlsx'\n",
    "pth = '../dados/teste_copacabana_20240929/RBR/055161_20240929_1733.xlsx'\n",
    "\n",
    "df = pd.read_excel(pth,\n",
    "        sheet_name='Bursts', header=1)\n",
    "\n",
    "df.index = pd.to_datetime(df.Time, format=\"%Y-%m-%d %H:%M:%S.%f\")\n",
    "\n",
    "df.index.name = 'time'"
   ]
  },
  {
   "cell_type": "code",
   "execution_count": null,
   "metadata": {},
   "outputs": [],
   "source": [
    "df.Wave.plot(ylabel='Heave [m]', grid='on')\n",
    "\n",
    "plt.show(block=False)\n"
   ]
  },
  {
   "cell_type": "code",
   "execution_count": 88,
   "metadata": {},
   "outputs": [],
   "source": [
    "ax = pd.read_table('../dados/TEBIG_gx3/TOA5_55915.microstrain_stbacelX.dat', skiprows=4,\n",
    "                   sep=',', header=None, parse_dates = {'date':[0]}, index_col='date').T\n",
    "\n",
    "ay = pd.read_table('../dados/TEBIG_gx3/TOA5_55915.microstrain_stbacelY.dat', skiprows=4,\n",
    "                   sep=',', header=None, parse_dates = {'date':[0]}, index_col='date').T\n",
    "\n",
    "az = pd.read_table('../dados/TEBIG_gx3/TOA5_55915.microstrain_stbacelZ.dat', skiprows=4,\n",
    "                   sep=' ', header=None, parse_dates = {'date':[0, 1]}, index_col='date').T\n",
    "\n",
    "time = az.index.values\n",
    "\n",
    "# ax.shape\n",
    "ax = ax.iloc[1:, 18].values\n",
    "ay = ay.iloc[1:, 18].values\n",
    "az = az.iloc[1:, 18].values"
   ]
  },
  {
   "cell_type": "code",
   "execution_count": 90,
   "metadata": {},
   "outputs": [
    {
     "name": "stdout",
     "output_type": "stream",
     "text": [
      "Série de Heave:\n",
      "[ 0.00000000e+00 -5.40434037e+00 -2.16123743e+01 ... -5.62416410e+06\n",
      " -5.63518652e+06 -5.64621975e+06]\n"
     ]
    },
    {
     "name": "stderr",
     "output_type": "stream",
     "text": [
      "/tmp/ipykernel_73213/2777264714.py:29: DeprecationWarning: 'scipy.integrate.cumtrapz' is deprecated in favour of 'scipy.integrate.cumulative_trapezoid' and will be removed in SciPy 1.14.0\n",
      "  vz = cumtrapz(az_corr, dx=dt, initial=0)\n",
      "/tmp/ipykernel_73213/2777264714.py:32: DeprecationWarning: 'scipy.integrate.cumtrapz' is deprecated in favour of 'scipy.integrate.cumulative_trapezoid' and will be removed in SciPy 1.14.0\n",
      "  heave = cumtrapz(vz, dx=dt, initial=0)\n"
     ]
    }
   ],
   "source": [
    "# Função para cálculo do filtro passa-baixa\n",
    "def butter_lowpass(cutoff, fs, order=5):\n",
    "    nyquist = 0.5 * fs\n",
    "    normal_cutoff = cutoff / nyquist\n",
    "    b, a = butter(order, normal_cutoff, btype='low', analog=False)\n",
    "    return b, a\n",
    "\n",
    "# Aplica o filtro passa-baixa\n",
    "def lowpass_filter(data, cutoff, fs, order=5):\n",
    "    b, a = butter_lowpass(cutoff, fs, order=order)\n",
    "    y = filtfilt(b, a, data)\n",
    "    return y\n",
    "\n",
    "# Função para cálculo de pitch e roll\n",
    "def calculate_pitch_roll(ax, ay, az):\n",
    "    pitch = np.arctan2(ax, np.sqrt(ay**2 + az**2))  # Inclinação no eixo x\n",
    "    roll = np.arctan2(ay, np.sqrt(ax**2 + az**2))   # Inclinação no eixo y\n",
    "    return pitch, roll\n",
    "\n",
    "# Função para correção de gravidade na aceleração vertical\n",
    "def correct_acceleration_az(ax, ay, az, pitch, roll):\n",
    "    g = 9.81  # Aceleração gravitacional\n",
    "    az_corr = az - (g * np.cos(pitch) * np.cos(roll))  # Corrige o efeito da gravidade\n",
    "    return az_corr\n",
    "\n",
    "# Função para calcular o heave a partir da aceleração corrigida\n",
    "def calculate_heave(az_corr, dt):\n",
    "    # Integração da aceleração corrigida para obter a velocidade\n",
    "    vz = cumtrapz(az_corr, dx=dt, initial=0)\n",
    "    \n",
    "    # Integração da velocidade para obter o heave\n",
    "    heave = cumtrapz(vz, dx=dt, initial=0)\n",
    "    \n",
    "    return heave\n",
    "\n",
    "# Dados de exemplo: ax, ay, az (acelerações) e tempo (em segundos)\n",
    "# Esses dados precisam ser carregados a partir dos seus arquivos\n",
    "# ax = np.array([...])  # Aceleração no eixo x\n",
    "# ay = np.array([...])  # Aceleração no eixo y\n",
    "# az = np.array([...])  # Aceleração no eixo z\n",
    "# time = np.array([...])  # Tempo correspondente aos dados de aceleração\n",
    "\n",
    "dt = np.mean(np.diff(time))  # Intervalo de tempo médio entre as amostras\n",
    "fs = 1 / dt  # Frequência de amostragem\n",
    "\n",
    "# Parâmetros do filtro\n",
    "cutoff_freq = 0.2  # Frequência de corte em Hz (ajuste conforme necessário)\n",
    "\n",
    "# Calcular pitch e roll\n",
    "pitch, roll = calculate_pitch_roll(ax, ay, az)\n",
    "\n",
    "# Corrigir a aceleração vertical (az) para remover o efeito da gravidade\n",
    "az_corr = correct_acceleration_az(ax, ay, az, pitch, roll)\n",
    "\n",
    "# Aplicar um filtro passa-baixa para remover ruídos\n",
    "az_corr_filtered = lowpass_filter(az_corr, cutoff=cutoff_freq, fs=fs)\n",
    "\n",
    "# Calcular o heave\n",
    "heave = calculate_heave(az_corr_filtered, dt)\n",
    "\n",
    "# Exibir os resultados\n",
    "print(\"Série de Heave:\")\n",
    "print(heave)\n",
    "\n"
   ]
  },
  {
   "cell_type": "code",
   "execution_count": 91,
   "metadata": {},
   "outputs": [
    {
     "data": {
      "text/plain": [
       "[<matplotlib.lines.Line2D at 0x7f3cddb4a570>]"
      ]
     },
     "execution_count": 91,
     "metadata": {},
     "output_type": "execute_result"
    },
    {
     "data": {
      "image/png": "[encoded data removed]",
      "text/plain": [
       "<Figure size 640x480 with 1 Axes>"
      ]
     },
     "metadata": {},
     "output_type": "display_data"
    }
   ],
   "source": [
    "plt.plot(heave)"
   ]
  }
 ],
 "metadata": {
  "kernelspec": {
   "display_name": "Python 3",
   "language": "python",
   "name": "python3"
  },
  "language_info": {
   "codemirror_mode": {
    "name": "ipython",
    "version": 3
   },
   "file_extension": ".py",
   "mimetype": "text/x-python",
   "name": "python",
   "nbconvert_exporter": "python",
   "pygments_lexer": "ipython3",
   "version": "3.12.4"
  }
 },
 "nbformat": 4,
 "nbformat_minor": 2
}
